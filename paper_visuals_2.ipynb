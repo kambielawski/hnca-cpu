{
 "cells": [
  {
   "cell_type": "code",
   "execution_count": 1,
   "metadata": {},
   "outputs": [],
   "source": [
    "import os\n",
    "import pickle\n",
    "import time\n",
    "import numpy as np\n",
    "from analysis import plot_average_nonzero_proportion\n",
    "from vis import simulate_one_individual, simulate_n_individuals"
   ]
  },
  {
   "cell_type": "code",
   "execution_count": 2,
   "metadata": {},
   "outputs": [
    {
     "name": "stdout",
     "output_type": "stream",
     "text": [
      "2000\n"
     ]
    },
    {
     "ename": "TypeError",
     "evalue": "'NoneType' object is not subscriptable",
     "output_type": "error",
     "traceback": [
      "\u001b[0;31m---------------------------------------------------------------------------\u001b[0m",
      "\u001b[0;31mTypeError\u001b[0m                                 Traceback (most recent call last)",
      "\u001b[0;32m<ipython-input-2-8a7bba11dba1>\u001b[0m in \u001b[0;36m<module>\u001b[0;34m\u001b[0m\n\u001b[1;32m      2\u001b[0m \u001b[0mlabel_names\u001b[0m \u001b[0;34m=\u001b[0m \u001b[0;34m[\u001b[0m\u001b[0;34m]\u001b[0m\u001b[0;34m\u001b[0m\u001b[0;34m\u001b[0m\u001b[0m\n\u001b[1;32m      3\u001b[0m \u001b[0;34m\u001b[0m\u001b[0m\n\u001b[0;32m----> 4\u001b[0;31m \u001b[0mplot_average_nonzero_proportion\u001b[0m\u001b[0;34m(\u001b[0m\u001b[0mfolder_name\u001b[0m\u001b[0;34m,\u001b[0m \u001b[0mn_layers\u001b[0m\u001b[0;34m=\u001b[0m\u001b[0;36m4\u001b[0m\u001b[0;34m)\u001b[0m\u001b[0;34m\u001b[0m\u001b[0;34m\u001b[0m\u001b[0m\n\u001b[0m",
      "\u001b[0;32m~/dev/projects/mocs-final/analysis.py\u001b[0m in \u001b[0;36mplot_average_nonzero_proportion\u001b[0;34m(folder_name, n_layers)\u001b[0m\n\u001b[1;32m    119\u001b[0m         \u001b[0;32mfor\u001b[0m \u001b[0mfile_name\u001b[0m \u001b[0;32min\u001b[0m \u001b[0mfile_list\u001b[0m\u001b[0;34m:\u001b[0m\u001b[0;34m\u001b[0m\u001b[0;34m\u001b[0m\u001b[0m\n\u001b[1;32m    120\u001b[0m             \u001b[0mfile_path\u001b[0m \u001b[0;34m=\u001b[0m \u001b[0mos\u001b[0m\u001b[0;34m.\u001b[0m\u001b[0mpath\u001b[0m\u001b[0;34m.\u001b[0m\u001b[0mjoin\u001b[0m\u001b[0;34m(\u001b[0m\u001b[0mfolder_name\u001b[0m\u001b[0;34m,\u001b[0m \u001b[0mfile_name\u001b[0m\u001b[0;34m)\u001b[0m\u001b[0;34m\u001b[0m\u001b[0;34m\u001b[0m\u001b[0m\n\u001b[0;32m--> 121\u001b[0;31m             \u001b[0mnonzero_prop_values\u001b[0m \u001b[0;34m=\u001b[0m \u001b[0mextract_nonzero_prop_values\u001b[0m\u001b[0;34m(\u001b[0m\u001b[0mfile_path\u001b[0m\u001b[0;34m,\u001b[0m \u001b[0mlayer\u001b[0m\u001b[0;34m=\u001b[0m\u001b[0ml\u001b[0m\u001b[0;34m)\u001b[0m\u001b[0;34m\u001b[0m\u001b[0;34m\u001b[0m\u001b[0m\n\u001b[0m\u001b[1;32m    122\u001b[0m             \u001b[0mlayer_nonzero_prop_values\u001b[0m\u001b[0;34m.\u001b[0m\u001b[0mappend\u001b[0m\u001b[0;34m(\u001b[0m\u001b[0mnonzero_prop_values\u001b[0m\u001b[0;34m)\u001b[0m\u001b[0;34m\u001b[0m\u001b[0;34m\u001b[0m\u001b[0m\n\u001b[1;32m    123\u001b[0m \u001b[0;34m\u001b[0m\u001b[0m\n",
      "\u001b[0;32m~/dev/projects/mocs-final/analysis.py\u001b[0m in \u001b[0;36mextract_nonzero_prop_values\u001b[0;34m(file_path, layer)\u001b[0m\n\u001b[1;32m    100\u001b[0m             \u001b[0mn\u001b[0m \u001b[0;34m=\u001b[0m \u001b[0;34m(\u001b[0m\u001b[0;36m64\u001b[0m \u001b[0;34m//\u001b[0m \u001b[0mresolution\u001b[0m\u001b[0;34m)\u001b[0m \u001b[0;34m**\u001b[0m \u001b[0;36m2\u001b[0m\u001b[0;34m\u001b[0m\u001b[0;34m\u001b[0m\u001b[0m\n\u001b[1;32m    101\u001b[0m \u001b[0;34m\u001b[0m\u001b[0m\n\u001b[0;32m--> 102\u001b[0;31m             \u001b[0mn_nonzero\u001b[0m \u001b[0;34m=\u001b[0m \u001b[0mnp\u001b[0m\u001b[0;34m.\u001b[0m\u001b[0mcount_nonzero\u001b[0m\u001b[0;34m(\u001b[0m\u001b[0msolution_object\u001b[0m\u001b[0;34m.\u001b[0m\u001b[0mphenotype\u001b[0m\u001b[0;34m[\u001b[0m\u001b[0mlayer\u001b[0m\u001b[0;34m]\u001b[0m\u001b[0;34m)\u001b[0m\u001b[0;34m\u001b[0m\u001b[0;34m\u001b[0m\u001b[0m\n\u001b[0m\u001b[1;32m    103\u001b[0m             \u001b[0;31m# exit(1)\u001b[0m\u001b[0;34m\u001b[0m\u001b[0;34m\u001b[0m\u001b[0;34m\u001b[0m\u001b[0m\n\u001b[1;32m    104\u001b[0m \u001b[0;34m\u001b[0m\u001b[0m\n",
      "\u001b[0;31mTypeError\u001b[0m: 'NoneType' object is not subscriptable"
     ]
    }
   ],
   "source": [
    "folder_name = './experiments_paper/exp_square_4layer/base1_64.32.16.8'\n",
    "label_names = []\n",
    "\n",
    "plot_average_nonzero_proportion(folder_name, n_layers=4)\n"
   ]
  },
  {
   "cell_type": "code",
   "execution_count": 3,
   "metadata": {},
   "outputs": [],
   "source": [
    "folder_name = './experiments_paper/exp_diamond_4layer/base1_diamond_64.32.16.8'\n",
    "file_list = [f for f in os.listdir(folder_name) if f.endswith('.pkl')]\n",
    "file_path = file_list[0]\n",
    "\n",
    "with open(f'{folder_name}/{file_path}', 'rb') as pf:\n",
    "        afpo = pickle.load(pf)\n",
    "        top_fitness_history = afpo.best_fitness_history"
   ]
  },
  {
   "cell_type": "code",
   "execution_count": 4,
   "metadata": {},
   "outputs": [
    {
     "name": "stdout",
     "output_type": "stream",
     "text": [
      "4\n",
      "(1000, 100, 4, 64, 64)\n"
     ]
    }
   ],
   "source": [
    "# generate phenotypes\n",
    "phenotypes = simulate_n_individuals(top_fitness_history[:1000])"
   ]
  },
  {
   "cell_type": "code",
   "execution_count": 7,
   "metadata": {},
   "outputs": [
    {
     "data": {
      "text/plain": [
       "(100, 4, 64, 64)"
      ]
     },
     "execution_count": 7,
     "metadata": {},
     "output_type": "execute_result"
    }
   ],
   "source": [
    "phenotypes.shape"
   ]
  },
  {
   "cell_type": "code",
   "execution_count": 9,
   "metadata": {},
   "outputs": [
    {
     "name": "stdout",
     "output_type": "stream",
     "text": [
      "['base2_64.32.16.8_t12.pkl', 'base2_64.32.16.8_t2.pkl', 'base2_64.32.16.8_t1.pkl', 'base2_64.32.16.8_t16.pkl', 'base2_64.32.16.8_t11.pkl', 'base2_64.32.16.8_t19.pkl', 'base2_64.32.16.8_t5.pkl', 'base2_64.32.16.8_t17.pkl', 'base2_64.32.16.8_t7.pkl', 'base2_64.32.16.8_t0.pkl', 'base2_64.32.16.8_t9.pkl', 'base2_64.32.16.8_t18.pkl', 'base2_64.32.16.8_t3.pkl', 'base2_64.32.16.8_t8.pkl', 'base2_64.32.16.8_t10.pkl', 'base2_64.32.16.8_t14.pkl', 'base2_64.32.16.8_t13.pkl', 'base2_64.32.16.8_t4.pkl', 'base2_64.32.16.8_t6.pkl', 'base2_64.32.16.8_t15.pkl']\n",
      "1/20 files done - Time: 18.185673713684082s\n",
      "2/20 files done - Time: 18.128047943115234s\n",
      "3/20 files done - Time: 18.003379344940186s\n",
      "4/20 files done - Time: 18.3320415019989s\n",
      "5/20 files done - Time: 18.327794313430786s\n",
      "6/20 files done - Time: 18.22435212135315s\n",
      "7/20 files done - Time: 18.411171197891235s\n",
      "8/20 files done - Time: 18.14871644973755s\n",
      "9/20 files done - Time: 17.97495412826538s\n",
      "10/20 files done - Time: 18.196752548217773s\n",
      "11/20 files done - Time: 18.15204119682312s\n",
      "12/20 files done - Time: 18.008772134780884s\n",
      "13/20 files done - Time: 18.25835084915161s\n",
      "14/20 files done - Time: 17.93919539451599s\n",
      "15/20 files done - Time: 18.106979846954346s\n",
      "16/20 files done - Time: 18.17168617248535s\n",
      "17/20 files done - Time: 18.243207931518555s\n",
      "18/20 files done - Time: 17.973809719085693s\n"
     ]
    },
    {
     "ename": "AssertionError",
     "evalue": "",
     "output_type": "error",
     "traceback": [
      "\u001b[0;31m---------------------------------------------------------------------------\u001b[0m",
      "\u001b[0;31mAssertionError\u001b[0m                            Traceback (most recent call last)",
      "\u001b[0;32m<ipython-input-9-45949e77e40a>\u001b[0m in \u001b[0;36m<module>\u001b[0;34m\u001b[0m\n\u001b[1;32m     18\u001b[0m     \u001b[0mphenotypes_2\u001b[0m \u001b[0;34m=\u001b[0m \u001b[0msimulate_n_individuals\u001b[0m\u001b[0;34m(\u001b[0m\u001b[0mtop_fitness_history\u001b[0m\u001b[0;34m[\u001b[0m\u001b[0;36m500\u001b[0m\u001b[0;34m:\u001b[0m\u001b[0;36m1000\u001b[0m\u001b[0;34m]\u001b[0m\u001b[0;34m)\u001b[0m\u001b[0;34m\u001b[0m\u001b[0;34m\u001b[0m\u001b[0m\n\u001b[1;32m     19\u001b[0m     \u001b[0mphenotypes_3\u001b[0m \u001b[0;34m=\u001b[0m \u001b[0msimulate_n_individuals\u001b[0m\u001b[0;34m(\u001b[0m\u001b[0mtop_fitness_history\u001b[0m\u001b[0;34m[\u001b[0m\u001b[0;36m1000\u001b[0m\u001b[0;34m:\u001b[0m\u001b[0;36m1500\u001b[0m\u001b[0;34m]\u001b[0m\u001b[0;34m)\u001b[0m\u001b[0;34m\u001b[0m\u001b[0;34m\u001b[0m\u001b[0m\n\u001b[0;32m---> 20\u001b[0;31m     \u001b[0mphenotypes_4\u001b[0m \u001b[0;34m=\u001b[0m \u001b[0msimulate_n_individuals\u001b[0m\u001b[0;34m(\u001b[0m\u001b[0mtop_fitness_history\u001b[0m\u001b[0;34m[\u001b[0m\u001b[0;36m1500\u001b[0m\u001b[0;34m:\u001b[0m\u001b[0;34m]\u001b[0m\u001b[0;34m)\u001b[0m\u001b[0;34m\u001b[0m\u001b[0;34m\u001b[0m\u001b[0m\n\u001b[0m\u001b[1;32m     21\u001b[0m     \u001b[0mphenotypes\u001b[0m \u001b[0;34m=\u001b[0m \u001b[0mnp\u001b[0m\u001b[0;34m.\u001b[0m\u001b[0mconcatenate\u001b[0m\u001b[0;34m(\u001b[0m\u001b[0;34m[\u001b[0m\u001b[0mphenotypes_1\u001b[0m\u001b[0;34m,\u001b[0m \u001b[0mphenotypes_2\u001b[0m\u001b[0;34m,\u001b[0m \u001b[0mphenotypes_3\u001b[0m\u001b[0;34m,\u001b[0m \u001b[0mphenotypes_4\u001b[0m\u001b[0;34m]\u001b[0m\u001b[0;34m)\u001b[0m\u001b[0;34m\u001b[0m\u001b[0;34m\u001b[0m\u001b[0m\n\u001b[1;32m     22\u001b[0m \u001b[0;34m\u001b[0m\u001b[0m\n",
      "\u001b[0;32m~/dev/projects/mocs-final/vis.py\u001b[0m in \u001b[0;36msimulate_n_individuals\u001b[0;34m(solutions)\u001b[0m\n\u001b[1;32m    193\u001b[0m     \u001b[0minit_phenotypes\u001b[0m \u001b[0;34m=\u001b[0m \u001b[0mmake_seed_phenotypes\u001b[0m\u001b[0;34m(\u001b[0m\u001b[0mn\u001b[0m\u001b[0;34m,\u001b[0m \u001b[0mn_layers\u001b[0m\u001b[0;34m)\u001b[0m\u001b[0;34m\u001b[0m\u001b[0;34m\u001b[0m\u001b[0m\n\u001b[1;32m    194\u001b[0m \u001b[0;34m\u001b[0m\u001b[0m\n\u001b[0;32m--> 195\u001b[0;31m     phenotypes = simulate(\n\u001b[0m\u001b[1;32m    196\u001b[0m             \u001b[0mnp\u001b[0m\u001b[0;34m.\u001b[0m\u001b[0marray\u001b[0m\u001b[0;34m(\u001b[0m\u001b[0;34m[\u001b[0m\u001b[0msoln\u001b[0m\u001b[0;34m.\u001b[0m\u001b[0mgrowth_genotype\u001b[0m \u001b[0;32mfor\u001b[0m \u001b[0msoln\u001b[0m \u001b[0;32min\u001b[0m \u001b[0msolutions\u001b[0m\u001b[0;34m]\u001b[0m\u001b[0;34m)\u001b[0m\u001b[0;34m,\u001b[0m\u001b[0;34m\u001b[0m\u001b[0;34m\u001b[0m\u001b[0m\n\u001b[1;32m    197\u001b[0m             \u001b[0mnp\u001b[0m\u001b[0;34m.\u001b[0m\u001b[0marray\u001b[0m\u001b[0;34m(\u001b[0m\u001b[0;34m[\u001b[0m\u001b[0msoln\u001b[0m\u001b[0;34m.\u001b[0m\u001b[0mstate_genotype\u001b[0m \u001b[0;32mfor\u001b[0m \u001b[0msoln\u001b[0m \u001b[0;32min\u001b[0m \u001b[0msolutions\u001b[0m\u001b[0;34m]\u001b[0m\u001b[0;34m)\u001b[0m\u001b[0;34m,\u001b[0m\u001b[0;34m\u001b[0m\u001b[0;34m\u001b[0m\u001b[0m\n",
      "\u001b[0;32m~/dev/projects/mocs-final/simulation.py\u001b[0m in \u001b[0;36msimulate\u001b[0;34m(growth_genotypes, state_genotypes, num_layers, base_layer, around_start, above_start, use_growth, phenotypes, activation)\u001b[0m\n\u001b[1;32m    300\u001b[0m     \u001b[0;31m# granularity of 4x4.\u001b[0m\u001b[0;34m\u001b[0m\u001b[0;34m\u001b[0m\u001b[0;34m\u001b[0m\u001b[0m\n\u001b[1;32m    301\u001b[0m     \u001b[0;32mif\u001b[0m \u001b[0mphenotypes\u001b[0m\u001b[0;34m.\u001b[0m\u001b[0mshape\u001b[0m\u001b[0;34m[\u001b[0m\u001b[0;36m2\u001b[0m\u001b[0;34m]\u001b[0m \u001b[0;34m>\u001b[0m \u001b[0;36m2\u001b[0m\u001b[0;34m:\u001b[0m\u001b[0;34m\u001b[0m\u001b[0;34m\u001b[0m\u001b[0m\n\u001b[0;32m--> 302\u001b[0;31m         assert all(check_granularity(4, p)\n\u001b[0m\u001b[1;32m    303\u001b[0m                 for p in np.reshape(\n\u001b[1;32m    304\u001b[0m                     phenotypes[:, :, 2], (-1, WORLD_SIZE, WORLD_SIZE)))\n",
      "\u001b[0;31mAssertionError\u001b[0m: "
     ]
    }
   ],
   "source": [
    "folder_name = './experiments_paper/exp_square_4layer/base2_64.32.16.8'\n",
    "new_folder_name = f'{folder_name}_phenotypes'\n",
    "os.makedirs(new_folder_name, exist_ok=True)\n",
    "file_list = [f for f in os.listdir(folder_name) if f.endswith('.pkl')]\n",
    "print(file_list)\n",
    "\n",
    "for f, file in enumerate(file_list):\n",
    "    start = time.time()\n",
    "    \n",
    "    file_path = f'{folder_name}/{file}'\n",
    "\n",
    "    with open(file_path, 'rb') as pf:\n",
    "        afpo = pickle.load(pf)\n",
    "        top_fitness_history = afpo.best_fitness_history\n",
    "    \n",
    "    # Run simulations\n",
    "    phenotypes_1 = simulate_n_individuals(top_fitness_history[:500])\n",
    "    phenotypes_2 = simulate_n_individuals(top_fitness_history[500:1000])\n",
    "    phenotypes_3 = simulate_n_individuals(top_fitness_history[1000:1500])\n",
    "    phenotypes_4 = simulate_n_individuals(top_fitness_history[1500:])\n",
    "    phenotypes = np.concatenate([phenotypes_1, phenotypes_2, phenotypes_3, phenotypes_4])\n",
    "\n",
    "    # Assign phenotypes back to AFPO object\n",
    "    for i in range(len(afpo.best_fitness_history)):\n",
    "        afpo.best_fitness_history[i].phenotype = phenotypes[i]\n",
    "\n",
    "    # Write back to new file\n",
    "    new_file_path = f'{new_folder_name}/{file}'\n",
    "    with open(new_file_path, 'wb') as pf:\n",
    "        pickle.dump(afpo, pf)\n",
    "\n",
    "    end = time.time()\n",
    "    print(f'{f+1}/{len(file_list)} files done - Time: {end-start}s')\n",
    "    exit(1)"
   ]
  },
  {
   "cell_type": "code",
   "execution_count": null,
   "metadata": {},
   "outputs": [],
   "source": []
  }
 ],
 "metadata": {
  "kernelspec": {
   "display_name": "Python 3",
   "language": "python",
   "name": "python3"
  },
  "language_info": {
   "codemirror_mode": {
    "name": "ipython",
    "version": 3
   },
   "file_extension": ".py",
   "mimetype": "text/x-python",
   "name": "python",
   "nbconvert_exporter": "python",
   "pygments_lexer": "ipython3",
   "version": "3.8.10"
  }
 },
 "nbformat": 4,
 "nbformat_minor": 2
}
